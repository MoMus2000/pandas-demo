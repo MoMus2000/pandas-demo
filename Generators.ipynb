{
  "nbformat": 4,
  "nbformat_minor": 0,
  "metadata": {
    "colab": {
      "provenance": []
    },
    "kernelspec": {
      "name": "python3",
      "display_name": "Python 3"
    },
    "language_info": {
      "name": "python"
    }
  },
  "cells": [
    {
      "cell_type": "markdown",
      "source": [
        "Generator example and yield keyword compared with return"
      ],
      "metadata": {
        "id": "rl0XfOFy0bnt"
      }
    },
    {
      "cell_type": "code",
      "source": [
        "def square_number_list(n):\n",
        "  result = []\n",
        "  for i in range(0, n):\n",
        "    result.append(i**2)\n",
        "  return result\n",
        "\n",
        "def square_number_generator(n):\n",
        "  for i in range(0, n):\n",
        "    yield i**2\n",
        "\n",
        "\n",
        "sq1 = square_number_list(5)\n",
        "sq2 = square_number_generator(5)\n",
        "\n",
        "print(sq1) # List of squares\n",
        "print(sq2) # Generator object"
      ],
      "metadata": {
        "colab": {
          "base_uri": "https://localhost:8080/"
        },
        "id": "RK7ypXd4wyND",
        "outputId": "868487c6-43d2-496e-8603-a67764a0300b"
      },
      "execution_count": 22,
      "outputs": [
        {
          "output_type": "stream",
          "name": "stdout",
          "text": [
            "[0, 1, 4, 9, 16]\n",
            "<generator object square_number_generator at 0x7adceb751770>\n"
          ]
        }
      ]
    },
    {
      "cell_type": "markdown",
      "source": [
        "Lazy Initialization"
      ],
      "metadata": {
        "id": "ZHhCZ-O70k6O"
      }
    },
    {
      "cell_type": "code",
      "source": [
        "# We can define when we want to receive a square value from within\n",
        "# without having to return\n",
        "\n",
        "val1 = next(sq2)\n",
        "print(val1)\n",
        "\n",
        "val2 = next(sq2)\n",
        "print(val2)\n",
        "\n",
        "# And so on .."
      ],
      "metadata": {
        "colab": {
          "base_uri": "https://localhost:8080/"
        },
        "id": "CmrncodrxjOa",
        "outputId": "acb8743c-9724-4210-fb40-3868b8922929"
      },
      "execution_count": 23,
      "outputs": [
        {
          "output_type": "stream",
          "name": "stdout",
          "text": [
            "0\n",
            "1\n"
          ]
        }
      ]
    },
    {
      "cell_type": "markdown",
      "source": [
        "For loop syntactic sugar and desugaring the for loop"
      ],
      "metadata": {
        "id": "44mm6OH10rwy"
      }
    },
    {
      "cell_type": "code",
      "source": [
        "# We can also use a for loop to get values from the generator\n",
        "print(\"-----------------------------\")\n",
        "\n",
        "for val in square_number_generator(5):\n",
        "  print(val)\n",
        "\n",
        "\n",
        "print(\"-----------------------------\")\n",
        "\n",
        "# The for loop can be thought of as syntactic sugar\n",
        "# It can be desuagarized to\n",
        "\n",
        "i = 0\n",
        "n = 5\n",
        "sq3 = square_number_generator(n)\n",
        "while i < n:\n",
        "  try:\n",
        "    print(next(sq3))\n",
        "  except Exception as e: # Beyond the sentinel value, we get an exception\n",
        "    break\n",
        "\n",
        "print(\"-----------------------------\")"
      ],
      "metadata": {
        "colab": {
          "base_uri": "https://localhost:8080/"
        },
        "id": "Bydn7n88x4fK",
        "outputId": "4a5e7044-9f40-4de6-a08a-968008124d2f"
      },
      "execution_count": 19,
      "outputs": [
        {
          "output_type": "stream",
          "name": "stdout",
          "text": [
            "-----------------------------\n",
            "0\n",
            "1\n",
            "4\n",
            "9\n",
            "16\n",
            "-----------------------------\n",
            "0\n",
            "1\n",
            "4\n",
            "9\n",
            "16\n",
            "-----------------------------\n"
          ]
        }
      ]
    },
    {
      "cell_type": "markdown",
      "source": [
        "Scenarios where generators are useful"
      ],
      "metadata": {
        "id": "4Fe98ShX0Vt7"
      }
    },
    {
      "cell_type": "code",
      "source": [
        "#  What scenarios are generators useful for ?\n",
        "\n",
        "# 1. Infinite sequences\n",
        "\n",
        "# For eg. we're reading through a file that we don't know the end for ..\n",
        "\n",
        "# Memory Efficiency: Generators produce values one at a time and don't store the\n",
        "#  entire sequence in memory. This makes them ideal for handling large datasets\n",
        "# that cannot fit into memory all at once.\n",
        "\n",
        "# Efficient Iteration: Generators provide a convenient way to iterate over a\n",
        "# sequence of elements without loading all of them into memory at once.\n",
        "# This is particularly useful when dealing with large files or infinite sequences.\n",
        "\n",
        "# Lazy Evaluation: Generators produce values on-the-fly as they are requested,\n",
        "# which enables lazy evaluation. This can save computation time and resources by\n",
        "#  only generating values when needed.\n",
        "\n",
        "# Pipelining: Generators can be chained together to form a pipeline for data\n",
        "# processing. Each generator in the pipeline performs a specific transformation\n",
        "# on the data, allowing for modular and reusable code.\n",
        "\n",
        "# Infinite Sequences: Generators can represent infinite sequences, such as the\n",
        "#  Fibonacci sequence or prime numbers, without having to compute or store all\n",
        "# the values in advance.\n",
        "\n",
        "# Asynchronous Programming: Generators can be used in asynchronous programming\n",
        "# to generate values asynchronously, enabling more efficient and responsive\n",
        "# code execution.\n",
        "\n",
        "# Memory Management: Generators are useful for tasks that involve generating\n",
        "# and processing large volumes of data, such as reading lines from a file or\n",
        "# streaming data over a network. They allow you to manage memory more\n",
        "# efficiently by processing data in smaller chunks.\n",
        "\n",
        "# Stateful Iteration: Generators can maintain internal state between iterations,\n",
        "#  allowing for more complex iteration patterns and algorithms.\n",
        "\n",
        "import time\n",
        "\n",
        "def tail_file(filename, interval=1):\n",
        "    with open(filename, 'r') as f:\n",
        "        # Move file pointer to the end\n",
        "        f.seek(0, 2)\n",
        "        while True:\n",
        "            current_position = f.tell()\n",
        "            line = f.readline()\n",
        "            if not line:\n",
        "                f.seek(current_position)\n",
        "                time.sleep(interval)\n",
        "            else:\n",
        "                yield line\n",
        "\n",
        "# # Example usage:\n",
        "# file_path = \"example.log\"  # Replace with your file path\n",
        "# for line in tail_file(file_path):\n",
        "#     print(line, end=\"\")"
      ],
      "metadata": {
        "id": "HK2UcToHyJet"
      },
      "execution_count": null,
      "outputs": []
    },
    {
      "cell_type": "markdown",
      "source": [
        "Defining an Iterator"
      ],
      "metadata": {
        "id": "7PQjhU_W0Qbo"
      }
    },
    {
      "cell_type": "code",
      "source": [
        "class MyIterator:\n",
        "    def __init__(self, data):\n",
        "        self.data = data\n",
        "        self.index = 0\n",
        "\n",
        "    def __iter__(self):\n",
        "        # This method returns the iterator object itself.\n",
        "        return self\n",
        "\n",
        "    def __next__(self):\n",
        "        # Check if the index is within the range of the data.\n",
        "        if self.index < len(self.data):\n",
        "            # Get the current element and increment the index.\n",
        "            current_element = self.data[self.index]\n",
        "            self.index += 1\n",
        "            return current_element\n",
        "        else:\n",
        "            # If the index is out of range, raise StopIteration.\n",
        "            raise StopIteration"
      ],
      "metadata": {
        "id": "naqPAX480Th6"
      },
      "execution_count": 28,
      "outputs": []
    },
    {
      "cell_type": "code",
      "source": [
        "# Ask Greg if he has a better explanation, but generators are a concise way to\n",
        "# implement the iterator\n",
        "\n",
        "def fibonacci_generator(limit):\n",
        "    a, b = 0, 1\n",
        "    while a <= limit:\n",
        "        yield a\n",
        "        a, b = b, a + b\n",
        "\n",
        "# Using the generator\n",
        "fibonacci_gen = fibonacci_generator(limit=100)"
      ],
      "metadata": {
        "id": "_GrJ73zI20Fe"
      },
      "execution_count": 43,
      "outputs": []
    },
    {
      "cell_type": "code",
      "source": [
        "print(next(fibonacci_gen))"
      ],
      "metadata": {
        "colab": {
          "base_uri": "https://localhost:8080/"
        },
        "id": "ClnDt7NC23Rc",
        "outputId": "f5867200-cb34-4500-e2a0-f28a87e0a8f0"
      },
      "execution_count": 44,
      "outputs": [
        {
          "output_type": "stream",
          "name": "stdout",
          "text": [
            "0\n"
          ]
        }
      ]
    },
    {
      "cell_type": "markdown",
      "source": [
        "Short form Expressions for generators"
      ],
      "metadata": {
        "id": "ZGHTuIXf1Fj0"
      }
    },
    {
      "cell_type": "code",
      "source": [
        "my_generator = (x for x in range(10))\n",
        "\n",
        "print(my_generator)\n",
        "\n",
        "for val in my_generator:\n",
        "  print(val)"
      ],
      "metadata": {
        "colab": {
          "base_uri": "https://localhost:8080/"
        },
        "id": "0s_wbVnM1FCR",
        "outputId": "e37e03b6-ebfc-410b-e661-fa099bc953fc"
      },
      "execution_count": 26,
      "outputs": [
        {
          "output_type": "stream",
          "name": "stdout",
          "text": [
            "<generator object <genexpr> at 0x7adceb7b0970>\n",
            "0\n",
            "1\n",
            "2\n",
            "3\n",
            "4\n",
            "5\n",
            "6\n",
            "7\n",
            "8\n",
            "9\n"
          ]
        }
      ]
    },
    {
      "cell_type": "code",
      "source": [
        "# We've seen these iterable expressions in list comprehensions as well previosuly\n",
        "\n",
        "# Other samples\n",
        "\n",
        "# Calculating squares\n",
        "squares = (x ** 2 for x in range(1, 6))\n",
        "\n",
        "# filtering even numbers\n",
        "even_numbers = (x for x in range(10) if x % 2 == 0)\n",
        "\n",
        "# Combining two lists\n",
        "combined = (x + y for x in [1, 2, 3] for y in [4, 5, 6])\n"
      ],
      "metadata": {
        "id": "aw213SqO1I1k"
      },
      "execution_count": 27,
      "outputs": []
    }
  ]
}