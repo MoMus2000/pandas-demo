{
  "nbformat": 4,
  "nbformat_minor": 0,
  "metadata": {
    "colab": {
      "provenance": []
    },
    "kernelspec": {
      "name": "python3",
      "display_name": "Python 3"
    },
    "language_info": {
      "name": "python"
    }
  },
  "cells": [
    {
      "cell_type": "markdown",
      "source": [
        " <h3>List comprehensions are a concise and readable way to create lists, dicts, and sets in Python.</h3>"
      ],
      "metadata": {
        "id": "02aXJmgNasmt"
      }
    },
    {
      "cell_type": "markdown",
      "source": [
        "List Comprehension for Lists:\n"
      ],
      "metadata": {
        "id": "HnC2mRbGa01w"
      }
    },
    {
      "cell_type": "code",
      "source": [
        "squared_numbers = [num **2 for num in range(0, 10)]\n",
        "\n",
        "print(f\"Squared number list {squared_numbers}\")\n",
        "\n",
        "squared_numbers = []\n",
        "\n",
        "## Long hand version using a loop\n",
        "\n",
        "for i in range(0, 10):\n",
        "  squared_numbers.append(i**2)\n",
        "\n",
        "print(f\"Squared number list {squared_numbers}\")"
      ],
      "metadata": {
        "colab": {
          "base_uri": "https://localhost:8080/"
        },
        "id": "8tETaAwMazg8",
        "outputId": "893bc2fd-e449-4ffc-876b-4d453c582620"
      },
      "execution_count": 19,
      "outputs": [
        {
          "output_type": "stream",
          "name": "stdout",
          "text": [
            "Squared number list [0, 1, 4, 9, 16, 25, 36, 49, 64, 81]\n",
            "Squared number list [0, 1, 4, 9, 16, 25, 36, 49, 64, 81]\n"
          ]
        }
      ]
    },
    {
      "cell_type": "markdown",
      "source": [
        "Filtering even numbers"
      ],
      "metadata": {
        "id": "M_Iq3ejmbizB"
      }
    },
    {
      "cell_type": "code",
      "source": [
        "even_numbers = [num for num in range(0, 10) if num % 2 == 0]\n",
        "\n",
        "print(f\"Even number list {even_numbers}\")\n",
        "\n",
        "even_numbers = []\n",
        "\n",
        "for i in range(0, 10):\n",
        "  if i % 2 == 0:\n",
        "    even_numbers.append(i)\n",
        "\n",
        "print(f\"Even number list {even_numbers}\")"
      ],
      "metadata": {
        "colab": {
          "base_uri": "https://localhost:8080/"
        },
        "id": "SoiuPEIUbJ6g",
        "outputId": "a18b9e54-f2d6-4bc3-aeb7-f704fe003d4e"
      },
      "execution_count": 22,
      "outputs": [
        {
          "output_type": "stream",
          "name": "stdout",
          "text": [
            "Even number list [0, 2, 4, 6, 8]\n",
            "Even number list [0, 2, 4, 6, 8]\n"
          ]
        }
      ]
    },
    {
      "cell_type": "markdown",
      "source": [
        "Using dictionaries"
      ],
      "metadata": {
        "id": "9lNi5MgBcCOC"
      }
    },
    {
      "cell_type": "code",
      "source": [
        "dictionary_of_squares = {x: x**2 for x in range(0, 10)}\n",
        "\n",
        "print(f\"dictionary of squares {dictionary_of_squares}\")\n",
        "\n",
        "dictionary_of_squares = {}\n",
        "\n",
        "for i in range(0, 10):\n",
        "  dictionary_of_squares[i] = i**2\n",
        "\n",
        "print(f\"dictionary of squares {dictionary_of_squares}\")"
      ],
      "metadata": {
        "colab": {
          "base_uri": "https://localhost:8080/"
        },
        "id": "u-KNJNtFb491",
        "outputId": "d1c02e3d-df24-4c40-9a84-67516491cb5b"
      },
      "execution_count": 23,
      "outputs": [
        {
          "output_type": "stream",
          "name": "stdout",
          "text": [
            "dictionary of squares {0: 0, 1: 1, 2: 4, 3: 9, 4: 16, 5: 25, 6: 36, 7: 49, 8: 64, 9: 81}\n",
            "dictionary of squares {0: 0, 1: 1, 2: 4, 3: 9, 4: 16, 5: 25, 6: 36, 7: 49, 8: 64, 9: 81}\n"
          ]
        }
      ]
    },
    {
      "cell_type": "markdown",
      "source": [
        "Adding conditionals"
      ],
      "metadata": {
        "id": "aKZj6J6qca0X"
      }
    },
    {
      "cell_type": "code",
      "source": [
        "fruit_basket = {'apples' : 2, 'mangoes': 10, 'peaches': 15, 'plums': 2}\n",
        "\n",
        "small_container = {k:v for k,v in fruit_basket.items() if v < 5}\n",
        "\n",
        "print(f\"small container {small_container}\")\n",
        "\n",
        "small_container = {}\n",
        "\n",
        "for key, value in fruit_basket.items():\n",
        "  if value < 5:\n",
        "    small_container[key]=value\n",
        "\n",
        "print(f\"small container {small_container}\")"
      ],
      "metadata": {
        "colab": {
          "base_uri": "https://localhost:8080/"
        },
        "id": "yh9-gHe5cYQ-",
        "outputId": "cadb2056-066f-474b-d902-3a258e62c671"
      },
      "execution_count": 28,
      "outputs": [
        {
          "output_type": "stream",
          "name": "stdout",
          "text": [
            "small container {'apples': 2, 'plums': 2}\n",
            "small container {'apples': 2, 'plums': 2}\n"
          ]
        }
      ]
    },
    {
      "cell_type": "markdown",
      "source": [
        "Sets"
      ],
      "metadata": {
        "id": "kZ07gR-3di5U"
      }
    },
    {
      "cell_type": "code",
      "source": [
        "list_of_numbers = [1, 1, 2, 3, 4, 5, 6, 7, 8, 9, 10, 11, 11] # full of duplicates\n",
        "\n",
        "list_without_duplicates = {num for num in list_of_numbers}\n",
        "\n",
        "print(f\"List of numbers {list_of_numbers}\")\n",
        "\n",
        "print(f\"list without duplicates {list_without_duplicates}\")\n",
        "\n",
        "# Long hand\n",
        "list_without_duplicates = set()\n",
        "\n",
        "for num in list_of_numbers:\n",
        "  list_without_duplicates.add(num)\n",
        "\n",
        "print(f\"list without duplicates {list_without_duplicates}\")"
      ],
      "metadata": {
        "colab": {
          "base_uri": "https://localhost:8080/"
        },
        "id": "a-16APH7dDgg",
        "outputId": "1c9d5a4f-8702-41c8-e1bb-eef845d5eb1f"
      },
      "execution_count": 33,
      "outputs": [
        {
          "output_type": "stream",
          "name": "stdout",
          "text": [
            "List of numbers [1, 1, 2, 3, 4, 5, 6, 7, 8, 9, 10, 11, 11]\n",
            "list without duplicates {1, 2, 3, 4, 5, 6, 7, 8, 9, 10, 11}\n",
            "list without duplicates {1, 2, 3, 4, 5, 6, 7, 8, 9, 10, 11}\n"
          ]
        }
      ]
    },
    {
      "cell_type": "markdown",
      "source": [
        "Advanced"
      ],
      "metadata": {
        "id": "hR4pLQs-ePhu"
      }
    },
    {
      "cell_type": "code",
      "source": [
        "nested_data = [(x,y) for x in range(0,10) for y in range(0, 10)]\n",
        "\n",
        "print(nested_data)\n",
        "\n",
        "nested_data = []\n",
        "\n",
        "for x in range(0, 10):\n",
        "  for y in range(0, 10):\n",
        "    nested_data.append((x, y))\n",
        "\n",
        "print(nested_data)"
      ],
      "metadata": {
        "colab": {
          "base_uri": "https://localhost:8080/"
        },
        "id": "iMc0iO6Ndp5F",
        "outputId": "186cd1a6-c8d3-418e-d79e-4e40c2ffa188"
      },
      "execution_count": 37,
      "outputs": [
        {
          "output_type": "stream",
          "name": "stdout",
          "text": [
            "[(0, 0), (0, 1), (0, 2), (0, 3), (0, 4), (0, 5), (0, 6), (0, 7), (0, 8), (0, 9), (1, 0), (1, 1), (1, 2), (1, 3), (1, 4), (1, 5), (1, 6), (1, 7), (1, 8), (1, 9), (2, 0), (2, 1), (2, 2), (2, 3), (2, 4), (2, 5), (2, 6), (2, 7), (2, 8), (2, 9), (3, 0), (3, 1), (3, 2), (3, 3), (3, 4), (3, 5), (3, 6), (3, 7), (3, 8), (3, 9), (4, 0), (4, 1), (4, 2), (4, 3), (4, 4), (4, 5), (4, 6), (4, 7), (4, 8), (4, 9), (5, 0), (5, 1), (5, 2), (5, 3), (5, 4), (5, 5), (5, 6), (5, 7), (5, 8), (5, 9), (6, 0), (6, 1), (6, 2), (6, 3), (6, 4), (6, 5), (6, 6), (6, 7), (6, 8), (6, 9), (7, 0), (7, 1), (7, 2), (7, 3), (7, 4), (7, 5), (7, 6), (7, 7), (7, 8), (7, 9), (8, 0), (8, 1), (8, 2), (8, 3), (8, 4), (8, 5), (8, 6), (8, 7), (8, 8), (8, 9), (9, 0), (9, 1), (9, 2), (9, 3), (9, 4), (9, 5), (9, 6), (9, 7), (9, 8), (9, 9)]\n",
            "[(0, 0), (0, 1), (0, 2), (0, 3), (0, 4), (0, 5), (0, 6), (0, 7), (0, 8), (0, 9), (1, 0), (1, 1), (1, 2), (1, 3), (1, 4), (1, 5), (1, 6), (1, 7), (1, 8), (1, 9), (2, 0), (2, 1), (2, 2), (2, 3), (2, 4), (2, 5), (2, 6), (2, 7), (2, 8), (2, 9), (3, 0), (3, 1), (3, 2), (3, 3), (3, 4), (3, 5), (3, 6), (3, 7), (3, 8), (3, 9), (4, 0), (4, 1), (4, 2), (4, 3), (4, 4), (4, 5), (4, 6), (4, 7), (4, 8), (4, 9), (5, 0), (5, 1), (5, 2), (5, 3), (5, 4), (5, 5), (5, 6), (5, 7), (5, 8), (5, 9), (6, 0), (6, 1), (6, 2), (6, 3), (6, 4), (6, 5), (6, 6), (6, 7), (6, 8), (6, 9), (7, 0), (7, 1), (7, 2), (7, 3), (7, 4), (7, 5), (7, 6), (7, 7), (7, 8), (7, 9), (8, 0), (8, 1), (8, 2), (8, 3), (8, 4), (8, 5), (8, 6), (8, 7), (8, 8), (8, 9), (9, 0), (9, 1), (9, 2), (9, 3), (9, 4), (9, 5), (9, 6), (9, 7), (9, 8), (9, 9)]\n"
          ]
        }
      ]
    },
    {
      "cell_type": "code",
      "source": [],
      "metadata": {
        "id": "MK-VsJSpeiCe"
      },
      "execution_count": null,
      "outputs": []
    }
  ]
}